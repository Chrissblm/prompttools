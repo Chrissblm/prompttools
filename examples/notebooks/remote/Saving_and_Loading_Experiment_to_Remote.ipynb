{
 "cells": [
  {
   "cell_type": "markdown",
   "metadata": {},
   "source": [
    "## Save Experiment to Server Example"
   ]
  },
  {
   "cell_type": "code",
   "execution_count": 1,
   "metadata": {},
   "outputs": [],
   "source": [
    "from prompttools.experiment import OpenAIChatExperiment\n",
    "\n",
    "import os\n",
    "\n",
    "os.environ[\"OPENAI_API_KEY\"] = \"\"\n",
    "os.environ[\"HEGELAI_API_KEY\"] = \"\""
   ]
  },
  {
   "cell_type": "code",
   "execution_count": 2,
   "metadata": {},
   "outputs": [],
   "source": [
    "models = [\"gpt-3.5-turbo\"]\n",
    "messages = [\n",
    "    [\n",
    "        {\"role\": \"system\", \"content\": \"You are a helpful assistant.\"},\n",
    "        {\"role\": \"user\", \"content\": \"Who was the first president?\"},\n",
    "    ]\n",
    "]\n",
    "temperatures = [0.0, 1.0]\n",
    "# You can add more parameters that you'd like to test here.\n",
    "\n",
    "experiment = OpenAIChatExperiment(models, messages, temperature=temperatures)"
   ]
  },
  {
   "cell_type": "code",
   "execution_count": 3,
   "metadata": {},
   "outputs": [
    {
     "data": {
      "text/html": [
       "<div>\n",
       "<style scoped>\n",
       "    .dataframe tbody tr th:only-of-type {\n",
       "        vertical-align: middle;\n",
       "    }\n",
       "\n",
       "    .dataframe tbody tr th {\n",
       "        vertical-align: top;\n",
       "    }\n",
       "\n",
       "    .dataframe thead th {\n",
       "        text-align: right;\n",
       "    }\n",
       "</style>\n",
       "<table border=\"1\" class=\"dataframe\">\n",
       "  <thead>\n",
       "    <tr style=\"text-align: right;\">\n",
       "      <th></th>\n",
       "      <th>temperature</th>\n",
       "      <th>messages</th>\n",
       "      <th>response</th>\n",
       "      <th>latency</th>\n",
       "    </tr>\n",
       "  </thead>\n",
       "  <tbody>\n",
       "    <tr>\n",
       "      <th>0</th>\n",
       "      <td>0.0</td>\n",
       "      <td>[{'role': 'system', 'content': 'You are a helpful assistant.'}, {'role': 'user', 'content': 'Who was the first president?'}]</td>\n",
       "      <td>The first president of the United States was George Washington. He served as president from 1789 to 1797.</td>\n",
       "      <td>1.105475</td>\n",
       "    </tr>\n",
       "    <tr>\n",
       "      <th>1</th>\n",
       "      <td>1.0</td>\n",
       "      <td>[{'role': 'system', 'content': 'You are a helpful assistant.'}, {'role': 'user', 'content': 'Who was the first president?'}]</td>\n",
       "      <td>The first president of the United States was George Washington. He served as president from 1789 to 1797.</td>\n",
       "      <td>1.025263</td>\n",
       "    </tr>\n",
       "  </tbody>\n",
       "</table>\n",
       "</div>"
      ],
      "text/plain": [
       "   temperature  \\\n",
       "0  0.0           \n",
       "1  1.0           \n",
       "\n",
       "                                                                                                                       messages  \\\n",
       "0  [{'role': 'system', 'content': 'You are a helpful assistant.'}, {'role': 'user', 'content': 'Who was the first president?'}]   \n",
       "1  [{'role': 'system', 'content': 'You are a helpful assistant.'}, {'role': 'user', 'content': 'Who was the first president?'}]   \n",
       "\n",
       "                                                                                                    response  \\\n",
       "0  The first president of the United States was George Washington. He served as president from 1789 to 1797.   \n",
       "1  The first president of the United States was George Washington. He served as president from 1789 to 1797.   \n",
       "\n",
       "    latency  \n",
       "0  1.105475  \n",
       "1  1.025263  "
      ]
     },
     "metadata": {},
     "output_type": "display_data"
    }
   ],
   "source": [
    "experiment.run()\n",
    "experiment.visualize()"
   ]
  },
  {
   "cell_type": "code",
   "execution_count": 5,
   "metadata": {},
   "outputs": [
    {
     "data": {
      "text/html": [
       "<div>\n",
       "<style scoped>\n",
       "    .dataframe tbody tr th:only-of-type {\n",
       "        vertical-align: middle;\n",
       "    }\n",
       "\n",
       "    .dataframe tbody tr th {\n",
       "        vertical-align: top;\n",
       "    }\n",
       "\n",
       "    .dataframe thead th {\n",
       "        text-align: right;\n",
       "    }\n",
       "</style>\n",
       "<table border=\"1\" class=\"dataframe\">\n",
       "  <thead>\n",
       "    <tr style=\"text-align: right;\">\n",
       "      <th></th>\n",
       "      <th>temperature</th>\n",
       "      <th>messages</th>\n",
       "      <th>response</th>\n",
       "      <th>latency</th>\n",
       "    </tr>\n",
       "  </thead>\n",
       "  <tbody>\n",
       "    <tr>\n",
       "      <th>0</th>\n",
       "      <td>0.0</td>\n",
       "      <td>[{'role': 'system', 'content': 'You are a helpful assistant.'}, {'role': 'user', 'content': 'Who was the first president?'}]</td>\n",
       "      <td>The first president of the United States was George Washington. He served as president from 1789 to 1797.</td>\n",
       "      <td>1.337838</td>\n",
       "    </tr>\n",
       "    <tr>\n",
       "      <th>1</th>\n",
       "      <td>1.0</td>\n",
       "      <td>[{'role': 'system', 'content': 'You are a helpful assistant.'}, {'role': 'user', 'content': 'Who was the first president?'}]</td>\n",
       "      <td>The first president of the United States was George Washington, serving from 1789 to 1797.</td>\n",
       "      <td>1.224729</td>\n",
       "    </tr>\n",
       "    <tr>\n",
       "      <th>2</th>\n",
       "      <td>1.0</td>\n",
       "      <td>[{'role': 'system', 'content': 'You are a helpful assistant.'}, {'role': 'user', 'content': 'Who was the second president?'}]</td>\n",
       "      <td>The second president of the United States was John Adams.</td>\n",
       "      <td>3.326496</td>\n",
       "    </tr>\n",
       "  </tbody>\n",
       "</table>\n",
       "</div>"
      ],
      "text/plain": [
       "   temperature  \\\n",
       "0  0.0           \n",
       "1  1.0           \n",
       "2  1.0           \n",
       "\n",
       "                                                                                                                        messages  \\\n",
       "0  [{'role': 'system', 'content': 'You are a helpful assistant.'}, {'role': 'user', 'content': 'Who was the first president?'}]    \n",
       "1  [{'role': 'system', 'content': 'You are a helpful assistant.'}, {'role': 'user', 'content': 'Who was the first president?'}]    \n",
       "2  [{'role': 'system', 'content': 'You are a helpful assistant.'}, {'role': 'user', 'content': 'Who was the second president?'}]   \n",
       "\n",
       "                                                                                                    response  \\\n",
       "0  The first president of the United States was George Washington. He served as president from 1789 to 1797.   \n",
       "1  The first president of the United States was George Washington, serving from 1789 to 1797.                  \n",
       "2  The second president of the United States was John Adams.                                                   \n",
       "\n",
       "    latency  \n",
       "0  1.337838  \n",
       "1  1.224729  \n",
       "2  3.326496  "
      ]
     },
     "metadata": {},
     "output_type": "display_data"
    }
   ],
   "source": [
    "experiment.run_one(\"gpt-3.5-turbo\", [\n",
    "        {\"role\": \"system\", \"content\": \"You are a helpful assistant.\"},\n",
    "        {\"role\": \"user\", \"content\": \"Who was the second president?\"},\n",
    "    ])\n",
    "experiment.visualize()"
   ]
  },
  {
   "cell_type": "code",
   "execution_count": 6,
   "metadata": {},
   "outputs": [
    {
     "name": "stdout",
     "output_type": "stream",
     "text": [
      "Running partial experiment...\n"
     ]
    },
    {
     "data": {
      "text/html": [
       "<div>\n",
       "<style scoped>\n",
       "    .dataframe tbody tr th:only-of-type {\n",
       "        vertical-align: middle;\n",
       "    }\n",
       "\n",
       "    .dataframe tbody tr th {\n",
       "        vertical-align: top;\n",
       "    }\n",
       "\n",
       "    .dataframe thead th {\n",
       "        text-align: right;\n",
       "    }\n",
       "</style>\n",
       "<table border=\"1\" class=\"dataframe\">\n",
       "  <thead>\n",
       "    <tr style=\"text-align: right;\">\n",
       "      <th></th>\n",
       "      <th>model</th>\n",
       "      <th>messages</th>\n",
       "      <th>temperature</th>\n",
       "      <th>top_p</th>\n",
       "      <th>n</th>\n",
       "      <th>stream</th>\n",
       "      <th>presence_penalty</th>\n",
       "      <th>frequency_penalty</th>\n",
       "      <th>response</th>\n",
       "      <th>response_id</th>\n",
       "      <th>response_object</th>\n",
       "      <th>response_created</th>\n",
       "      <th>response_model</th>\n",
       "      <th>response_choices</th>\n",
       "      <th>response_usage</th>\n",
       "      <th>latency</th>\n",
       "    </tr>\n",
       "  </thead>\n",
       "  <tbody>\n",
       "    <tr>\n",
       "      <th>0</th>\n",
       "      <td>gpt-3.5-turbo</td>\n",
       "      <td>[{'role': 'system', 'content': 'You are a helpful assistant.'}, {'role': 'user', 'content': 'Who was the first president?'}]</td>\n",
       "      <td>0.0</td>\n",
       "      <td>1.0</td>\n",
       "      <td>1</td>\n",
       "      <td>False</td>\n",
       "      <td>0.0</td>\n",
       "      <td>0.0</td>\n",
       "      <td>The first president of the United States was George Washington. He served as president from 1789 to 1797.</td>\n",
       "      <td>chatcmpl-8Afogt6JppN4gZhIDHLlj4dVDdBox</td>\n",
       "      <td>chat.completion</td>\n",
       "      <td>1697554714</td>\n",
       "      <td>gpt-3.5-turbo-0613</td>\n",
       "      <td>[{'index': 0, 'message': {'role': 'assistant', 'content': 'The first president of the United States was George Washington. He served as president from 1789 to 1797.'}, 'finish_reason': 'stop'}]</td>\n",
       "      <td>{'prompt_tokens': 23, 'completion_tokens': 24, 'total_tokens': 47}</td>\n",
       "      <td>1.337838</td>\n",
       "    </tr>\n",
       "    <tr>\n",
       "      <th>1</th>\n",
       "      <td>gpt-3.5-turbo</td>\n",
       "      <td>[{'role': 'system', 'content': 'You are a helpful assistant.'}, {'role': 'user', 'content': 'Who was the first president?'}]</td>\n",
       "      <td>1.0</td>\n",
       "      <td>1.0</td>\n",
       "      <td>1</td>\n",
       "      <td>False</td>\n",
       "      <td>0.0</td>\n",
       "      <td>0.0</td>\n",
       "      <td>The first president of the United States was George Washington, serving from 1789 to 1797.</td>\n",
       "      <td>chatcmpl-8AfohOODBjWwdX27uNEnRQ2RSTU9c</td>\n",
       "      <td>chat.completion</td>\n",
       "      <td>1697554715</td>\n",
       "      <td>gpt-3.5-turbo-0613</td>\n",
       "      <td>[{'index': 0, 'message': {'role': 'assistant', 'content': 'The first president of the United States was George Washington, serving from 1789 to 1797.'}, 'finish_reason': 'stop'}]</td>\n",
       "      <td>{'prompt_tokens': 23, 'completion_tokens': 21, 'total_tokens': 44}</td>\n",
       "      <td>1.224729</td>\n",
       "    </tr>\n",
       "    <tr>\n",
       "      <th>2</th>\n",
       "      <td>gpt-3.5-turbo</td>\n",
       "      <td>[{'role': 'system', 'content': 'You are a helpful assistant.'}, {'role': 'user', 'content': 'Who was the second president?'}]</td>\n",
       "      <td>1.0</td>\n",
       "      <td>1.0</td>\n",
       "      <td>1</td>\n",
       "      <td>False</td>\n",
       "      <td>0.0</td>\n",
       "      <td>0.0</td>\n",
       "      <td>The second president of the United States was John Adams.</td>\n",
       "      <td>chatcmpl-8AfoltjNBsasogjnwHm1OcefEZxd2</td>\n",
       "      <td>chat.completion</td>\n",
       "      <td>1697554719</td>\n",
       "      <td>gpt-3.5-turbo-0613</td>\n",
       "      <td>[{'index': 0, 'message': {'role': 'assistant', 'content': 'The second president of the United States was John Adams.'}, 'finish_reason': 'stop'}]</td>\n",
       "      <td>{'prompt_tokens': 23, 'completion_tokens': 11, 'total_tokens': 34}</td>\n",
       "      <td>3.326496</td>\n",
       "    </tr>\n",
       "    <tr>\n",
       "      <th>3</th>\n",
       "      <td>gpt-3.5-turbo</td>\n",
       "      <td>[{'role': 'system', 'content': 'You are a helpful assistant.'}, {'role': 'user', 'content': 'Who was the first president?'}]</td>\n",
       "      <td>0.5</td>\n",
       "      <td>1.0</td>\n",
       "      <td>1</td>\n",
       "      <td>False</td>\n",
       "      <td>0.0</td>\n",
       "      <td>0.0</td>\n",
       "      <td>The first president of the United States was George Washington. He served from 1789 to 1797.</td>\n",
       "      <td>chatcmpl-8Afp6Wd6CcF26ThPBjNFhCLhN6VGa</td>\n",
       "      <td>chat.completion</td>\n",
       "      <td>1697554740</td>\n",
       "      <td>gpt-3.5-turbo-0613</td>\n",
       "      <td>[{'index': 0, 'message': {'role': 'assistant', 'content': 'The first president of the United States was George Washington. He served from 1789 to 1797.'}, 'finish_reason': 'stop'}]</td>\n",
       "      <td>{'prompt_tokens': 23, 'completion_tokens': 22, 'total_tokens': 45}</td>\n",
       "      <td>1.061821</td>\n",
       "    </tr>\n",
       "  </tbody>\n",
       "</table>\n",
       "</div>"
      ],
      "text/plain": [
       "           model  \\\n",
       "0  gpt-3.5-turbo   \n",
       "1  gpt-3.5-turbo   \n",
       "2  gpt-3.5-turbo   \n",
       "3  gpt-3.5-turbo   \n",
       "\n",
       "                                                                                                                        messages  \\\n",
       "0  [{'role': 'system', 'content': 'You are a helpful assistant.'}, {'role': 'user', 'content': 'Who was the first president?'}]    \n",
       "1  [{'role': 'system', 'content': 'You are a helpful assistant.'}, {'role': 'user', 'content': 'Who was the first president?'}]    \n",
       "2  [{'role': 'system', 'content': 'You are a helpful assistant.'}, {'role': 'user', 'content': 'Who was the second president?'}]   \n",
       "3  [{'role': 'system', 'content': 'You are a helpful assistant.'}, {'role': 'user', 'content': 'Who was the first president?'}]    \n",
       "\n",
       "   temperature  top_p  n  stream  presence_penalty  frequency_penalty  \\\n",
       "0  0.0          1.0    1  False   0.0               0.0                 \n",
       "1  1.0          1.0    1  False   0.0               0.0                 \n",
       "2  1.0          1.0    1  False   0.0               0.0                 \n",
       "3  0.5          1.0    1  False   0.0               0.0                 \n",
       "\n",
       "                                                                                                    response  \\\n",
       "0  The first president of the United States was George Washington. He served as president from 1789 to 1797.   \n",
       "1  The first president of the United States was George Washington, serving from 1789 to 1797.                  \n",
       "2  The second president of the United States was John Adams.                                                   \n",
       "3  The first president of the United States was George Washington. He served from 1789 to 1797.                \n",
       "\n",
       "                              response_id  response_object  response_created  \\\n",
       "0  chatcmpl-8Afogt6JppN4gZhIDHLlj4dVDdBox  chat.completion  1697554714         \n",
       "1  chatcmpl-8AfohOODBjWwdX27uNEnRQ2RSTU9c  chat.completion  1697554715         \n",
       "2  chatcmpl-8AfoltjNBsasogjnwHm1OcefEZxd2  chat.completion  1697554719         \n",
       "3  chatcmpl-8Afp6Wd6CcF26ThPBjNFhCLhN6VGa  chat.completion  1697554740         \n",
       "\n",
       "       response_model  \\\n",
       "0  gpt-3.5-turbo-0613   \n",
       "1  gpt-3.5-turbo-0613   \n",
       "2  gpt-3.5-turbo-0613   \n",
       "3  gpt-3.5-turbo-0613   \n",
       "\n",
       "                                                                                                                                                                                    response_choices  \\\n",
       "0  [{'index': 0, 'message': {'role': 'assistant', 'content': 'The first president of the United States was George Washington. He served as president from 1789 to 1797.'}, 'finish_reason': 'stop'}]   \n",
       "1  [{'index': 0, 'message': {'role': 'assistant', 'content': 'The first president of the United States was George Washington, serving from 1789 to 1797.'}, 'finish_reason': 'stop'}]                  \n",
       "2  [{'index': 0, 'message': {'role': 'assistant', 'content': 'The second president of the United States was John Adams.'}, 'finish_reason': 'stop'}]                                                   \n",
       "3  [{'index': 0, 'message': {'role': 'assistant', 'content': 'The first president of the United States was George Washington. He served from 1789 to 1797.'}, 'finish_reason': 'stop'}]                \n",
       "\n",
       "                                                       response_usage  \\\n",
       "0  {'prompt_tokens': 23, 'completion_tokens': 24, 'total_tokens': 47}   \n",
       "1  {'prompt_tokens': 23, 'completion_tokens': 21, 'total_tokens': 44}   \n",
       "2  {'prompt_tokens': 23, 'completion_tokens': 11, 'total_tokens': 34}   \n",
       "3  {'prompt_tokens': 23, 'completion_tokens': 22, 'total_tokens': 45}   \n",
       "\n",
       "    latency  \n",
       "0  1.337838  \n",
       "1  1.224729  \n",
       "2  3.326496  \n",
       "3  1.061821  "
      ]
     },
     "execution_count": 6,
     "metadata": {},
     "output_type": "execute_result"
    }
   ],
   "source": [
    "experiment.run_partial(temperature=0.5)\n",
    "experiment.full_df"
   ]
  },
  {
   "cell_type": "code",
   "execution_count": 4,
   "metadata": {},
   "outputs": [
    {
     "name": "stdout",
     "output_type": "stream",
     "text": [
      "Creating serialized state of experiment...\n",
      "Sending HTTP POST request...\n",
      "<Response [200]>\n"
     ]
    }
   ],
   "source": [
    "res = experiment.save_experiment(\"TEST_SAVE_NAME2\")\n",
    "\n",
    "print(res)"
   ]
  },
  {
   "cell_type": "code",
   "execution_count": 5,
   "metadata": {},
   "outputs": [
    {
     "name": "stdout",
     "output_type": "stream",
     "text": [
      "afcac088-eaaa-4ffd-abeb-89f4ba416734\n",
      "c60795e9-efaa-4de0-9a16-770f22e13efc\n"
     ]
    }
   ],
   "source": [
    "print(experiment._experiment_id)\n",
    "print(experiment._revision_id)"
   ]
  },
  {
   "cell_type": "markdown",
   "metadata": {},
   "source": [
    "See results:\n",
    "\n",
    "http://127.0.0.1:5000/experiment/\n",
    "\n",
    "http://127.0.0.1:5000/experiment/logs"
   ]
  },
  {
   "cell_type": "code",
   "execution_count": null,
   "metadata": {},
   "outputs": [],
   "source": []
  },
  {
   "cell_type": "markdown",
   "metadata": {},
   "source": [
    "## Load Experiment from Server Example"
   ]
  },
  {
   "cell_type": "markdown",
   "metadata": {},
   "source": [
    "Grab uuid from http://127.0.0.1:5000/experiment/"
   ]
  },
  {
   "cell_type": "code",
   "execution_count": 6,
   "metadata": {},
   "outputs": [
    {
     "name": "stdout",
     "output_type": "stream",
     "text": [
      "Sending HTTP GET request...\n",
      "Loaded experiment.\n"
     ]
    }
   ],
   "source": [
    "# experiment_from_load = OpenAIChatExperiment.load_experiment(experiment._experiment_id)"
   ]
  },
  {
   "cell_type": "code",
   "execution_count": 7,
   "metadata": {},
   "outputs": [
    {
     "data": {
      "text/html": [
       "<div>\n",
       "<style scoped>\n",
       "    .dataframe tbody tr th:only-of-type {\n",
       "        vertical-align: middle;\n",
       "    }\n",
       "\n",
       "    .dataframe tbody tr th {\n",
       "        vertical-align: top;\n",
       "    }\n",
       "\n",
       "    .dataframe thead th {\n",
       "        text-align: right;\n",
       "    }\n",
       "</style>\n",
       "<table border=\"1\" class=\"dataframe\">\n",
       "  <thead>\n",
       "    <tr style=\"text-align: right;\">\n",
       "      <th></th>\n",
       "      <th>temperature</th>\n",
       "      <th>messages</th>\n",
       "      <th>response</th>\n",
       "      <th>latency</th>\n",
       "    </tr>\n",
       "  </thead>\n",
       "  <tbody>\n",
       "    <tr>\n",
       "      <th>0</th>\n",
       "      <td>0.0</td>\n",
       "      <td>[{'role': 'system', 'content': 'You are a helpful assistant.'}, {'role': 'user', 'content': 'Who was the first president?'}]</td>\n",
       "      <td>The first president of the United States was George Washington. He served as president from 1789 to 1797.</td>\n",
       "      <td>1.105475</td>\n",
       "    </tr>\n",
       "    <tr>\n",
       "      <th>1</th>\n",
       "      <td>1.0</td>\n",
       "      <td>[{'role': 'system', 'content': 'You are a helpful assistant.'}, {'role': 'user', 'content': 'Who was the first president?'}]</td>\n",
       "      <td>The first president of the United States was George Washington. He served as president from 1789 to 1797.</td>\n",
       "      <td>1.025263</td>\n",
       "    </tr>\n",
       "  </tbody>\n",
       "</table>\n",
       "</div>"
      ],
      "text/plain": [
       "   temperature  \\\n",
       "0  0.0           \n",
       "1  1.0           \n",
       "\n",
       "                                                                                                                       messages  \\\n",
       "0  [{'role': 'system', 'content': 'You are a helpful assistant.'}, {'role': 'user', 'content': 'Who was the first president?'}]   \n",
       "1  [{'role': 'system', 'content': 'You are a helpful assistant.'}, {'role': 'user', 'content': 'Who was the first president?'}]   \n",
       "\n",
       "                                                                                                    response  \\\n",
       "0  The first president of the United States was George Washington. He served as president from 1789 to 1797.   \n",
       "1  The first president of the United States was George Washington. He served as president from 1789 to 1797.   \n",
       "\n",
       "    latency  \n",
       "0  1.105475  \n",
       "1  1.025263  "
      ]
     },
     "metadata": {},
     "output_type": "display_data"
    }
   ],
   "source": [
    "experiment_from_load.full_df\n",
    "experiment_from_load.visualize()"
   ]
  },
  {
   "cell_type": "code",
   "execution_count": 8,
   "metadata": {},
   "outputs": [
    {
     "data": {
      "text/html": [
       "<div>\n",
       "<style scoped>\n",
       "    .dataframe tbody tr th:only-of-type {\n",
       "        vertical-align: middle;\n",
       "    }\n",
       "\n",
       "    .dataframe tbody tr th {\n",
       "        vertical-align: top;\n",
       "    }\n",
       "\n",
       "    .dataframe thead th {\n",
       "        text-align: right;\n",
       "    }\n",
       "</style>\n",
       "<table border=\"1\" class=\"dataframe\">\n",
       "  <thead>\n",
       "    <tr style=\"text-align: right;\">\n",
       "      <th></th>\n",
       "      <th>temperature</th>\n",
       "      <th>messages</th>\n",
       "      <th>response</th>\n",
       "      <th>latency</th>\n",
       "      <th>dumb_eval_metric</th>\n",
       "    </tr>\n",
       "  </thead>\n",
       "  <tbody>\n",
       "    <tr>\n",
       "      <th>0</th>\n",
       "      <td>0.0</td>\n",
       "      <td>[{'role': 'system', 'content': 'You are a helpful assistant.'}, {'role': 'user', 'content': 'Who was the first president?'}]</td>\n",
       "      <td>The first president of the United States was George Washington. He served as president from 1789 to 1797.</td>\n",
       "      <td>1.105475</td>\n",
       "      <td>EVAL'ED The first</td>\n",
       "    </tr>\n",
       "    <tr>\n",
       "      <th>1</th>\n",
       "      <td>1.0</td>\n",
       "      <td>[{'role': 'system', 'content': 'You are a helpful assistant.'}, {'role': 'user', 'content': 'Who was the first president?'}]</td>\n",
       "      <td>The first president of the United States was George Washington. He served as president from 1789 to 1797.</td>\n",
       "      <td>1.025263</td>\n",
       "      <td>EVAL'ED The first</td>\n",
       "    </tr>\n",
       "  </tbody>\n",
       "</table>\n",
       "</div>"
      ],
      "text/plain": [
       "   temperature  \\\n",
       "0  0.0           \n",
       "1  1.0           \n",
       "\n",
       "                                                                                                                       messages  \\\n",
       "0  [{'role': 'system', 'content': 'You are a helpful assistant.'}, {'role': 'user', 'content': 'Who was the first president?'}]   \n",
       "1  [{'role': 'system', 'content': 'You are a helpful assistant.'}, {'role': 'user', 'content': 'Who was the first president?'}]   \n",
       "\n",
       "                                                                                                    response  \\\n",
       "0  The first president of the United States was George Washington. He served as president from 1789 to 1797.   \n",
       "1  The first president of the United States was George Washington. He served as president from 1789 to 1797.   \n",
       "\n",
       "    latency    dumb_eval_metric  \n",
       "0  1.105475  EVAL'ED The first   \n",
       "1  1.025263  EVAL'ED The first   "
      ]
     },
     "metadata": {},
     "output_type": "display_data"
    }
   ],
   "source": [
    "def _dumb_eval(row):\n",
    "    return \"EVAL'ED \" + row['response'][:10]\n",
    "\n",
    "\n",
    "experiment_from_load.evaluate(\"dumb_eval_metric\", _dumb_eval)\n",
    "experiment_from_load.visualize()"
   ]
  },
  {
   "cell_type": "code",
   "execution_count": 9,
   "metadata": {},
   "outputs": [
    {
     "data": {
      "text/html": [
       "<div>\n",
       "<style scoped>\n",
       "    .dataframe tbody tr th:only-of-type {\n",
       "        vertical-align: middle;\n",
       "    }\n",
       "\n",
       "    .dataframe tbody tr th {\n",
       "        vertical-align: top;\n",
       "    }\n",
       "\n",
       "    .dataframe thead th {\n",
       "        text-align: right;\n",
       "    }\n",
       "</style>\n",
       "<table border=\"1\" class=\"dataframe\">\n",
       "  <thead>\n",
       "    <tr style=\"text-align: right;\">\n",
       "      <th></th>\n",
       "      <th>temperature</th>\n",
       "      <th>messages</th>\n",
       "      <th>response</th>\n",
       "      <th>latency</th>\n",
       "      <th>dumb_eval_metric</th>\n",
       "    </tr>\n",
       "  </thead>\n",
       "  <tbody>\n",
       "    <tr>\n",
       "      <th>0</th>\n",
       "      <td>0.0</td>\n",
       "      <td>[{'role': 'system', 'content': 'You are a helpful assistant.'}, {'role': 'user', 'content': 'Who was the first president?'}]</td>\n",
       "      <td>The first president of the United States was George Washington. He served as president from 1789 to 1797.</td>\n",
       "      <td>1.105475</td>\n",
       "      <td>EVAL'ED The first</td>\n",
       "    </tr>\n",
       "    <tr>\n",
       "      <th>1</th>\n",
       "      <td>1.0</td>\n",
       "      <td>[{'role': 'system', 'content': 'You are a helpful assistant.'}, {'role': 'user', 'content': 'Who was the first president?'}]</td>\n",
       "      <td>The first president of the United States was George Washington. He served as president from 1789 to 1797.</td>\n",
       "      <td>1.025263</td>\n",
       "      <td>EVAL'ED The first</td>\n",
       "    </tr>\n",
       "    <tr>\n",
       "      <th>0</th>\n",
       "      <td>0.0</td>\n",
       "      <td>[{'role': 'system', 'content': 'You are a helpful assistant.'}, {'role': 'user', 'content': 'Who was the first president?'}]</td>\n",
       "      <td>The first president of the United States was George Washington. He served as president from 1789 to 1797.</td>\n",
       "      <td>0.889007</td>\n",
       "      <td>NaN</td>\n",
       "    </tr>\n",
       "    <tr>\n",
       "      <th>1</th>\n",
       "      <td>1.0</td>\n",
       "      <td>[{'role': 'system', 'content': 'You are a helpful assistant.'}, {'role': 'user', 'content': 'Who was the first president?'}]</td>\n",
       "      <td>The first president of the United States was George Washington. He served as president from 1789 to 1797.</td>\n",
       "      <td>1.286091</td>\n",
       "      <td>NaN</td>\n",
       "    </tr>\n",
       "  </tbody>\n",
       "</table>\n",
       "</div>"
      ],
      "text/plain": [
       "   temperature  \\\n",
       "0  0.0           \n",
       "1  1.0           \n",
       "0  0.0           \n",
       "1  1.0           \n",
       "\n",
       "                                                                                                                       messages  \\\n",
       "0  [{'role': 'system', 'content': 'You are a helpful assistant.'}, {'role': 'user', 'content': 'Who was the first president?'}]   \n",
       "1  [{'role': 'system', 'content': 'You are a helpful assistant.'}, {'role': 'user', 'content': 'Who was the first president?'}]   \n",
       "0  [{'role': 'system', 'content': 'You are a helpful assistant.'}, {'role': 'user', 'content': 'Who was the first president?'}]   \n",
       "1  [{'role': 'system', 'content': 'You are a helpful assistant.'}, {'role': 'user', 'content': 'Who was the first president?'}]   \n",
       "\n",
       "                                                                                                    response  \\\n",
       "0  The first president of the United States was George Washington. He served as president from 1789 to 1797.   \n",
       "1  The first president of the United States was George Washington. He served as president from 1789 to 1797.   \n",
       "0  The first president of the United States was George Washington. He served as president from 1789 to 1797.   \n",
       "1  The first president of the United States was George Washington. He served as president from 1789 to 1797.   \n",
       "\n",
       "    latency    dumb_eval_metric  \n",
       "0  1.105475  EVAL'ED The first   \n",
       "1  1.025263  EVAL'ED The first   \n",
       "0  0.889007  NaN                 \n",
       "1  1.286091  NaN                 "
      ]
     },
     "metadata": {},
     "output_type": "display_data"
    }
   ],
   "source": [
    "experiment_from_load.run()\n",
    "experiment_from_load.visualize()"
   ]
  },
  {
   "cell_type": "code",
   "execution_count": 11,
   "metadata": {},
   "outputs": [
    {
     "name": "stdout",
     "output_type": "stream",
     "text": [
      "Sending HTTP GET request...\n",
      "Loaded experiment.\n"
     ]
    }
   ],
   "source": [
    "experiment_from_load_revision = OpenAIChatExperiment.load_revision(experiment._revision_id)"
   ]
  },
  {
   "cell_type": "code",
   "execution_count": 12,
   "metadata": {},
   "outputs": [
    {
     "data": {
      "text/html": [
       "<div>\n",
       "<style scoped>\n",
       "    .dataframe tbody tr th:only-of-type {\n",
       "        vertical-align: middle;\n",
       "    }\n",
       "\n",
       "    .dataframe tbody tr th {\n",
       "        vertical-align: top;\n",
       "    }\n",
       "\n",
       "    .dataframe thead th {\n",
       "        text-align: right;\n",
       "    }\n",
       "</style>\n",
       "<table border=\"1\" class=\"dataframe\">\n",
       "  <thead>\n",
       "    <tr style=\"text-align: right;\">\n",
       "      <th></th>\n",
       "      <th>model</th>\n",
       "      <th>messages</th>\n",
       "      <th>temperature</th>\n",
       "      <th>top_p</th>\n",
       "      <th>n</th>\n",
       "      <th>stream</th>\n",
       "      <th>presence_penalty</th>\n",
       "      <th>frequency_penalty</th>\n",
       "      <th>response</th>\n",
       "      <th>response_id</th>\n",
       "      <th>response_object</th>\n",
       "      <th>response_created</th>\n",
       "      <th>response_model</th>\n",
       "      <th>response_choices</th>\n",
       "      <th>response_usage</th>\n",
       "      <th>latency</th>\n",
       "      <th>revision_id</th>\n",
       "    </tr>\n",
       "  </thead>\n",
       "  <tbody>\n",
       "    <tr>\n",
       "      <th>0</th>\n",
       "      <td>gpt-3.5-turbo</td>\n",
       "      <td>[{'role': 'system', 'content': 'You are a helpful assistant.'}, {'role': 'user', 'content': 'Who was the first president?'}]</td>\n",
       "      <td>0.0</td>\n",
       "      <td>1.0</td>\n",
       "      <td>1</td>\n",
       "      <td>False</td>\n",
       "      <td>0.0</td>\n",
       "      <td>0.0</td>\n",
       "      <td>The first president of the United States was George Washington. He served as president from 1789 to 1797.</td>\n",
       "      <td>chatcmpl-8F4L3c4rdCCxcT38evtH4hHxPSFWJ</td>\n",
       "      <td>chat.completion</td>\n",
       "      <td>1698602289</td>\n",
       "      <td>gpt-3.5-turbo-0613</td>\n",
       "      <td>[{'index': 0, 'message': {'role': 'assistant', 'content': 'The first president of the United States was George Washington. He served as president from 1789 to 1797.'}, 'finish_reason': 'stop'}]</td>\n",
       "      <td>{'prompt_tokens': 23, 'completion_tokens': 24, 'total_tokens': 47}</td>\n",
       "      <td>1.105475</td>\n",
       "      <td>c60795e9-efaa-4de0-9a16-770f22e13efc</td>\n",
       "    </tr>\n",
       "    <tr>\n",
       "      <th>1</th>\n",
       "      <td>gpt-3.5-turbo</td>\n",
       "      <td>[{'role': 'system', 'content': 'You are a helpful assistant.'}, {'role': 'user', 'content': 'Who was the first president?'}]</td>\n",
       "      <td>1.0</td>\n",
       "      <td>1.0</td>\n",
       "      <td>1</td>\n",
       "      <td>False</td>\n",
       "      <td>0.0</td>\n",
       "      <td>0.0</td>\n",
       "      <td>The first president of the United States was George Washington. He served as president from 1789 to 1797.</td>\n",
       "      <td>chatcmpl-8F4L4yc7QqsJepuhdx4IQkFQ79rTy</td>\n",
       "      <td>chat.completion</td>\n",
       "      <td>1698602290</td>\n",
       "      <td>gpt-3.5-turbo-0613</td>\n",
       "      <td>[{'index': 0, 'message': {'role': 'assistant', 'content': 'The first president of the United States was George Washington. He served as president from 1789 to 1797.'}, 'finish_reason': 'stop'}]</td>\n",
       "      <td>{'prompt_tokens': 23, 'completion_tokens': 24, 'total_tokens': 47}</td>\n",
       "      <td>1.025263</td>\n",
       "      <td>c60795e9-efaa-4de0-9a16-770f22e13efc</td>\n",
       "    </tr>\n",
       "  </tbody>\n",
       "</table>\n",
       "</div>"
      ],
      "text/plain": [
       "           model  \\\n",
       "0  gpt-3.5-turbo   \n",
       "1  gpt-3.5-turbo   \n",
       "\n",
       "                                                                                                                       messages  \\\n",
       "0  [{'role': 'system', 'content': 'You are a helpful assistant.'}, {'role': 'user', 'content': 'Who was the first president?'}]   \n",
       "1  [{'role': 'system', 'content': 'You are a helpful assistant.'}, {'role': 'user', 'content': 'Who was the first president?'}]   \n",
       "\n",
       "   temperature  top_p  n  stream  presence_penalty  frequency_penalty  \\\n",
       "0  0.0          1.0    1  False   0.0               0.0                 \n",
       "1  1.0          1.0    1  False   0.0               0.0                 \n",
       "\n",
       "                                                                                                    response  \\\n",
       "0  The first president of the United States was George Washington. He served as president from 1789 to 1797.   \n",
       "1  The first president of the United States was George Washington. He served as president from 1789 to 1797.   \n",
       "\n",
       "                              response_id  response_object  response_created  \\\n",
       "0  chatcmpl-8F4L3c4rdCCxcT38evtH4hHxPSFWJ  chat.completion  1698602289         \n",
       "1  chatcmpl-8F4L4yc7QqsJepuhdx4IQkFQ79rTy  chat.completion  1698602290         \n",
       "\n",
       "       response_model  \\\n",
       "0  gpt-3.5-turbo-0613   \n",
       "1  gpt-3.5-turbo-0613   \n",
       "\n",
       "                                                                                                                                                                                    response_choices  \\\n",
       "0  [{'index': 0, 'message': {'role': 'assistant', 'content': 'The first president of the United States was George Washington. He served as president from 1789 to 1797.'}, 'finish_reason': 'stop'}]   \n",
       "1  [{'index': 0, 'message': {'role': 'assistant', 'content': 'The first president of the United States was George Washington. He served as president from 1789 to 1797.'}, 'finish_reason': 'stop'}]   \n",
       "\n",
       "                                                       response_usage  \\\n",
       "0  {'prompt_tokens': 23, 'completion_tokens': 24, 'total_tokens': 47}   \n",
       "1  {'prompt_tokens': 23, 'completion_tokens': 24, 'total_tokens': 47}   \n",
       "\n",
       "    latency                           revision_id  \n",
       "0  1.105475  c60795e9-efaa-4de0-9a16-770f22e13efc  \n",
       "1  1.025263  c60795e9-efaa-4de0-9a16-770f22e13efc  "
      ]
     },
     "execution_count": 12,
     "metadata": {},
     "output_type": "execute_result"
    }
   ],
   "source": [
    "experiment_from_load_revision.full_df\n"
   ]
  },
  {
   "cell_type": "code",
   "execution_count": 13,
   "metadata": {},
   "outputs": [
    {
     "data": {
      "text/html": [
       "<div>\n",
       "<style scoped>\n",
       "    .dataframe tbody tr th:only-of-type {\n",
       "        vertical-align: middle;\n",
       "    }\n",
       "\n",
       "    .dataframe tbody tr th {\n",
       "        vertical-align: top;\n",
       "    }\n",
       "\n",
       "    .dataframe thead th {\n",
       "        text-align: right;\n",
       "    }\n",
       "</style>\n",
       "<table border=\"1\" class=\"dataframe\">\n",
       "  <thead>\n",
       "    <tr style=\"text-align: right;\">\n",
       "      <th></th>\n",
       "      <th>temperature</th>\n",
       "      <th>messages</th>\n",
       "      <th>response</th>\n",
       "      <th>latency</th>\n",
       "    </tr>\n",
       "  </thead>\n",
       "  <tbody>\n",
       "    <tr>\n",
       "      <th>0</th>\n",
       "      <td>0.0</td>\n",
       "      <td>[{'role': 'system', 'content': 'You are a helpful assistant.'}, {'role': 'user', 'content': 'Who was the first president?'}]</td>\n",
       "      <td>The first president of the United States was George Washington. He served as president from 1789 to 1797.</td>\n",
       "      <td>1.105475</td>\n",
       "    </tr>\n",
       "    <tr>\n",
       "      <th>1</th>\n",
       "      <td>1.0</td>\n",
       "      <td>[{'role': 'system', 'content': 'You are a helpful assistant.'}, {'role': 'user', 'content': 'Who was the first president?'}]</td>\n",
       "      <td>The first president of the United States was George Washington. He served as president from 1789 to 1797.</td>\n",
       "      <td>1.025263</td>\n",
       "    </tr>\n",
       "  </tbody>\n",
       "</table>\n",
       "</div>"
      ],
      "text/plain": [
       "   temperature  \\\n",
       "0  0.0           \n",
       "1  1.0           \n",
       "\n",
       "                                                                                                                       messages  \\\n",
       "0  [{'role': 'system', 'content': 'You are a helpful assistant.'}, {'role': 'user', 'content': 'Who was the first president?'}]   \n",
       "1  [{'role': 'system', 'content': 'You are a helpful assistant.'}, {'role': 'user', 'content': 'Who was the first president?'}]   \n",
       "\n",
       "                                                                                                    response  \\\n",
       "0  The first president of the United States was George Washington. He served as president from 1789 to 1797.   \n",
       "1  The first president of the United States was George Washington. He served as president from 1789 to 1797.   \n",
       "\n",
       "    latency  \n",
       "0  1.105475  \n",
       "1  1.025263  "
      ]
     },
     "metadata": {},
     "output_type": "display_data"
    }
   ],
   "source": [
    "experiment_from_load_revision.visualize()"
   ]
  },
  {
   "cell_type": "code",
   "execution_count": 14,
   "metadata": {},
   "outputs": [
    {
     "name": "stdout",
     "output_type": "stream",
     "text": [
      "Creating serialized state of experiment...\n",
      "Sending HTTP POST request...\n"
     ]
    },
    {
     "data": {
      "text/plain": [
       "<Response [200]>"
      ]
     },
     "execution_count": 14,
     "metadata": {},
     "output_type": "execute_result"
    }
   ],
   "source": [
    "experiment_from_load_revision.save_experiment(\"TEST_SAVE_NAME3\")"
   ]
  },
  {
   "cell_type": "markdown",
   "metadata": {},
   "source": [
    "## Run Experiment on Server Example"
   ]
  },
  {
   "cell_type": "code",
   "execution_count": 35,
   "metadata": {},
   "outputs": [
    {
     "name": "stdout",
     "output_type": "stream",
     "text": [
      "Response:\n",
      "200\n",
      "[{'model': 'gpt-3.5-turbo', 'messages': [{'role': 'system', 'content': 'You are a helpful assistant.'}, {'role': 'user', 'content': 'Who was the first president?'}], 'temperature': 0.0, 'top_p': 1.0, 'n': 1, 'stream': False, 'presence_penalty': 0.0, 'frequency_penalty': 0.0, 'response': 'The first president of the United States was George Washington. He served as president from 1789 to 1797.', 'response_id': 'chatcmpl-88dS1ylV1T7BwNiuD53qHp3uylC05', 'response_object': 'chat.completion', 'response_created': 1697068965, 'response_model': 'gpt-3.5-turbo-0613', 'response_choices': [{'index': 0, 'message': {'role': 'assistant', 'content': 'The first president of the United States was George Washington. He served as president from 1789 to 1797.'}, 'finish_reason': 'stop'}], 'response_usage': {'prompt_tokens': 23, 'completion_tokens': 24, 'total_tokens': 47}, 'latency': 1.445512291, 'user_id': 0, 'experiment_id': 'd38f3ce0-ff4b-48a1-a7eb-e87f160f2344', 'experiment_name': 'RUNNING_ON_SERVER_SIDE_TEST', 'revision_id': 'f6e99087-75dc-46cd-87e5-59f827825afd', 'timestamp': 1697054566670, 'log_id': '652737a6675c713faa41274b'}, {'model': 'gpt-3.5-turbo', 'messages': [{'role': 'system', 'content': 'You are a helpful assistant.'}, {'role': 'user', 'content': 'Who was the first president?'}], 'temperature': 1.0, 'top_p': 1.0, 'n': 1, 'stream': False, 'presence_penalty': 0.0, 'frequency_penalty': 0.0, 'response': 'The first president of the United States was George Washington, serving from 1789 to 1797.', 'response_id': 'chatcmpl-88dS2l1gWveHxAOuyvqkjoOJV0ZIZ', 'response_object': 'chat.completion', 'response_created': 1697068966, 'response_model': 'gpt-3.5-turbo-0613', 'response_choices': [{'index': 0, 'message': {'role': 'assistant', 'content': 'The first president of the United States was George Washington, serving from 1789 to 1797.'}, 'finish_reason': 'stop'}], 'response_usage': {'prompt_tokens': 23, 'completion_tokens': 21, 'total_tokens': 44}, 'latency': 0.6030918751, 'user_id': 0, 'experiment_id': 'd38f3ce0-ff4b-48a1-a7eb-e87f160f2344', 'experiment_name': 'RUNNING_ON_SERVER_SIDE_TEST', 'revision_id': 'f6e99087-75dc-46cd-87e5-59f827825afd', 'timestamp': 1697054566670, 'log_id': '652737a6675c713faa41274c'}]\n"
     ]
    }
   ],
   "source": [
    "import requests\n",
    "import json\n",
    "\n",
    "url = \"http://127.0.0.1:5000/experiment/run\"\n",
    "\n",
    "model = [\"gpt-3.5-turbo\"]\n",
    "messages = [\n",
    "    [\n",
    "        {\"role\": \"system\", \"content\": \"You are a helpful assistant.\"},\n",
    "        {\"role\": \"user\", \"content\": \"Who was the first president?\"},\n",
    "    ]\n",
    "]\n",
    "temperature = [0.0, 1.0]\n",
    "\n",
    "\n",
    "input_parameters = {\n",
    "    'experiment_name': 'RUNNING_ON_SERVER_SIDE_TEST',\n",
    "    'model': models,\n",
    "    'messages': messages,\n",
    "    'temperature': temperature,\n",
    "}\n",
    "\n",
    "headers = {\n",
    "    \"OPENAI_API_KEY\": os.environ[\"OPENAI_API_KEY\"],\n",
    "    \"Content-Type\": \"application/json\"\n",
    "}\n",
    "\n",
    "\n",
    "response = requests.post(url, headers=headers, data=json.dumps(input_parameters))\n",
    "\n",
    "# Print the response\n",
    "print(\"Response:\")\n",
    "print(response.status_code)\n",
    "print(response.json())"
   ]
  },
  {
   "cell_type": "markdown",
   "metadata": {},
   "source": [
    "\n",
    "\n",
    "Checking results..."
   ]
  },
  {
   "cell_type": "code",
   "execution_count": null,
   "metadata": {},
   "outputs": [],
   "source": []
  },
  {
   "cell_type": "code",
   "execution_count": 19,
   "metadata": {},
   "outputs": [
    {
     "name": "stdout",
     "output_type": "stream",
     "text": [
      "Sending HTTP GET request...\n",
      "Loaded experiment.\n"
     ]
    },
    {
     "data": {
      "text/html": [
       "<div>\n",
       "<style scoped>\n",
       "    .dataframe tbody tr th:only-of-type {\n",
       "        vertical-align: middle;\n",
       "    }\n",
       "\n",
       "    .dataframe tbody tr th {\n",
       "        vertical-align: top;\n",
       "    }\n",
       "\n",
       "    .dataframe thead th {\n",
       "        text-align: right;\n",
       "    }\n",
       "</style>\n",
       "<table border=\"1\" class=\"dataframe\">\n",
       "  <thead>\n",
       "    <tr style=\"text-align: right;\">\n",
       "      <th></th>\n",
       "      <th>model</th>\n",
       "      <th>messages</th>\n",
       "      <th>temperature</th>\n",
       "      <th>top_p</th>\n",
       "      <th>n</th>\n",
       "      <th>stream</th>\n",
       "      <th>presence_penalty</th>\n",
       "      <th>frequency_penalty</th>\n",
       "      <th>response</th>\n",
       "      <th>response_id</th>\n",
       "      <th>response_object</th>\n",
       "      <th>response_created</th>\n",
       "      <th>response_model</th>\n",
       "      <th>response_choices</th>\n",
       "      <th>response_usage</th>\n",
       "      <th>latency</th>\n",
       "    </tr>\n",
       "  </thead>\n",
       "  <tbody>\n",
       "    <tr>\n",
       "      <th>0</th>\n",
       "      <td>gpt-3.5-turbo</td>\n",
       "      <td>[{'role': 'system', 'content': 'You are a helpful assistant.'}, {'role': 'user', 'content': 'Who was the first president?'}]</td>\n",
       "      <td>0.0</td>\n",
       "      <td>1.0</td>\n",
       "      <td>1</td>\n",
       "      <td>False</td>\n",
       "      <td>0.0</td>\n",
       "      <td>0.0</td>\n",
       "      <td>The first president of the United States was George Washington. He served as president from 1789 to 1797.</td>\n",
       "      <td>chatcmpl-87elWGXAZOUy5u9cZpt9wK81fb8Ti</td>\n",
       "      <td>chat.completion</td>\n",
       "      <td>1696835690</td>\n",
       "      <td>gpt-3.5-turbo-0613</td>\n",
       "      <td>[{'index': 0, 'message': {'role': 'assistant', 'content': 'The first president of the United States was George Washington. He served as president from 1789 to 1797.'}, 'finish_reason': 'stop'}]</td>\n",
       "      <td>{'prompt_tokens': 23, 'completion_tokens': 24, 'total_tokens': 47}</td>\n",
       "      <td>1.008068</td>\n",
       "    </tr>\n",
       "    <tr>\n",
       "      <th>1</th>\n",
       "      <td>gpt-3.5-turbo</td>\n",
       "      <td>[{'role': 'system', 'content': 'You are a helpful assistant.'}, {'role': 'user', 'content': 'Who was the first president?'}]</td>\n",
       "      <td>1.0</td>\n",
       "      <td>1.0</td>\n",
       "      <td>1</td>\n",
       "      <td>False</td>\n",
       "      <td>0.0</td>\n",
       "      <td>0.0</td>\n",
       "      <td>The first president of the United States was George Washington.</td>\n",
       "      <td>chatcmpl-87elYz68OyUCwP8ZBoW9KGszgKuq5</td>\n",
       "      <td>chat.completion</td>\n",
       "      <td>1696835692</td>\n",
       "      <td>gpt-3.5-turbo-0613</td>\n",
       "      <td>[{'index': 0, 'message': {'role': 'assistant', 'content': 'The first president of the United States was George Washington.'}, 'finish_reason': 'stop'}]</td>\n",
       "      <td>{'prompt_tokens': 23, 'completion_tokens': 11, 'total_tokens': 34}</td>\n",
       "      <td>0.957149</td>\n",
       "    </tr>\n",
       "  </tbody>\n",
       "</table>\n",
       "</div>"
      ],
      "text/plain": [
       "           model  \\\n",
       "0  gpt-3.5-turbo   \n",
       "1  gpt-3.5-turbo   \n",
       "\n",
       "                                                                                                                       messages  \\\n",
       "0  [{'role': 'system', 'content': 'You are a helpful assistant.'}, {'role': 'user', 'content': 'Who was the first president?'}]   \n",
       "1  [{'role': 'system', 'content': 'You are a helpful assistant.'}, {'role': 'user', 'content': 'Who was the first president?'}]   \n",
       "\n",
       "   temperature  top_p  n  stream  presence_penalty  frequency_penalty  \\\n",
       "0  0.0          1.0    1  False   0.0               0.0                 \n",
       "1  1.0          1.0    1  False   0.0               0.0                 \n",
       "\n",
       "                                                                                                    response  \\\n",
       "0  The first president of the United States was George Washington. He served as president from 1789 to 1797.   \n",
       "1  The first president of the United States was George Washington.                                             \n",
       "\n",
       "                              response_id  response_object  response_created  \\\n",
       "0  chatcmpl-87elWGXAZOUy5u9cZpt9wK81fb8Ti  chat.completion  1696835690         \n",
       "1  chatcmpl-87elYz68OyUCwP8ZBoW9KGszgKuq5  chat.completion  1696835692         \n",
       "\n",
       "       response_model  \\\n",
       "0  gpt-3.5-turbo-0613   \n",
       "1  gpt-3.5-turbo-0613   \n",
       "\n",
       "                                                                                                                                                                                    response_choices  \\\n",
       "0  [{'index': 0, 'message': {'role': 'assistant', 'content': 'The first president of the United States was George Washington. He served as president from 1789 to 1797.'}, 'finish_reason': 'stop'}]   \n",
       "1  [{'index': 0, 'message': {'role': 'assistant', 'content': 'The first president of the United States was George Washington.'}, 'finish_reason': 'stop'}]                                             \n",
       "\n",
       "                                                       response_usage  \\\n",
       "0  {'prompt_tokens': 23, 'completion_tokens': 24, 'total_tokens': 47}   \n",
       "1  {'prompt_tokens': 23, 'completion_tokens': 11, 'total_tokens': 34}   \n",
       "\n",
       "    latency  \n",
       "0  1.008068  \n",
       "1  0.957149  "
      ]
     },
     "execution_count": 19,
     "metadata": {},
     "output_type": "execute_result"
    }
   ],
   "source": [
    "experiment_from_load = OpenAIChatExperiment.load_experiment(\"9697a0dd-d603-4443-beec-bd6fd0b9126f\")\n",
    "experiment_from_load.full_df"
   ]
  },
  {
   "cell_type": "code",
   "execution_count": null,
   "metadata": {},
   "outputs": [],
   "source": []
  },
  {
   "cell_type": "markdown",
   "metadata": {},
   "source": [
    "## Feedback"
   ]
  },
  {
   "cell_type": "code",
   "execution_count": 31,
   "metadata": {},
   "outputs": [
    {
     "name": "stdout",
     "output_type": "stream",
     "text": [
      "Received data: Field updated or inserted successfully.\n"
     ]
    }
   ],
   "source": [
    "import requests\n",
    "import json\n",
    "\n",
    "api_url = \"http://127.0.0.1:5000/experiment/add_feedback/\"\n",
    "\n",
    "# Specify the data for the POST request\n",
    "data = {\n",
    "    \"log_id\": \"65239810e9aee9e6d2cbc482\",\n",
    "    \"metric_name\": \"CUSTOM_METRIC\",\n",
    "    \"value\": 123,\n",
    "}\n",
    "\n",
    "# Make the POST request\n",
    "response = requests.post(api_url, json=data)\n",
    "\n",
    "# Check the response\n",
    "if response.status_code == 200:\n",
    "    # Deserialize the response if it contains JSON data\n",
    "    data = response.json()\n",
    "    print(\"Received data:\", data)\n",
    "else:\n",
    "    print(f\"Error: {response.status_code}, {response.text}\")"
   ]
  },
  {
   "cell_type": "code",
   "execution_count": 32,
   "metadata": {},
   "outputs": [
    {
     "name": "stdout",
     "output_type": "stream",
     "text": [
      "Sending HTTP GET request...\n",
      "Loaded experiment.\n"
     ]
    },
    {
     "data": {
      "text/html": [
       "<div>\n",
       "<style scoped>\n",
       "    .dataframe tbody tr th:only-of-type {\n",
       "        vertical-align: middle;\n",
       "    }\n",
       "\n",
       "    .dataframe tbody tr th {\n",
       "        vertical-align: top;\n",
       "    }\n",
       "\n",
       "    .dataframe thead th {\n",
       "        text-align: right;\n",
       "    }\n",
       "</style>\n",
       "<table border=\"1\" class=\"dataframe\">\n",
       "  <thead>\n",
       "    <tr style=\"text-align: right;\">\n",
       "      <th></th>\n",
       "      <th>model</th>\n",
       "      <th>messages</th>\n",
       "      <th>temperature</th>\n",
       "      <th>top_p</th>\n",
       "      <th>n</th>\n",
       "      <th>stream</th>\n",
       "      <th>presence_penalty</th>\n",
       "      <th>frequency_penalty</th>\n",
       "      <th>response</th>\n",
       "      <th>response_id</th>\n",
       "      <th>response_object</th>\n",
       "      <th>response_created</th>\n",
       "      <th>response_model</th>\n",
       "      <th>response_choices</th>\n",
       "      <th>response_usage</th>\n",
       "      <th>latency</th>\n",
       "      <th>CUSTOM_METRIC</th>\n",
       "    </tr>\n",
       "  </thead>\n",
       "  <tbody>\n",
       "    <tr>\n",
       "      <th>0</th>\n",
       "      <td>gpt-3.5-turbo</td>\n",
       "      <td>[{'role': 'system', 'content': 'You are a helpful assistant.'}, {'role': 'user', 'content': 'Who was the first president?'}]</td>\n",
       "      <td>0.0</td>\n",
       "      <td>1.0</td>\n",
       "      <td>1</td>\n",
       "      <td>False</td>\n",
       "      <td>0.0</td>\n",
       "      <td>0.0</td>\n",
       "      <td>The first president of the United States was George Washington. He served as president from 1789 to 1797.</td>\n",
       "      <td>chatcmpl-87dUDKRQCO6Bq1PdPJLfF3vsXeluE</td>\n",
       "      <td>chat.completion</td>\n",
       "      <td>1696830773</td>\n",
       "      <td>gpt-3.5-turbo-0613</td>\n",
       "      <td>[{'index': 0, 'message': {'role': 'assistant', 'content': 'The first president of the United States was George Washington. He served as president from 1789 to 1797.'}, 'finish_reason': 'stop'}]</td>\n",
       "      <td>{'prompt_tokens': 23, 'completion_tokens': 24, 'total_tokens': 47}</td>\n",
       "      <td>0.859089</td>\n",
       "      <td>123.0</td>\n",
       "    </tr>\n",
       "    <tr>\n",
       "      <th>1</th>\n",
       "      <td>gpt-3.5-turbo</td>\n",
       "      <td>[{'role': 'system', 'content': 'You are a helpful assistant.'}, {'role': 'user', 'content': 'Who was the first president?'}]</td>\n",
       "      <td>1.0</td>\n",
       "      <td>1.0</td>\n",
       "      <td>1</td>\n",
       "      <td>False</td>\n",
       "      <td>0.0</td>\n",
       "      <td>0.0</td>\n",
       "      <td>The first president of the United States was George Washington.</td>\n",
       "      <td>chatcmpl-87dUEABSL6dfbEQqDw6Mc61cKh42s</td>\n",
       "      <td>chat.completion</td>\n",
       "      <td>1696830774</td>\n",
       "      <td>gpt-3.5-turbo-0613</td>\n",
       "      <td>[{'index': 0, 'message': {'role': 'assistant', 'content': 'The first president of the United States was George Washington.'}, 'finish_reason': 'stop'}]</td>\n",
       "      <td>{'prompt_tokens': 23, 'completion_tokens': 11, 'total_tokens': 34}</td>\n",
       "      <td>1.121416</td>\n",
       "      <td>NaN</td>\n",
       "    </tr>\n",
       "  </tbody>\n",
       "</table>\n",
       "</div>"
      ],
      "text/plain": [
       "           model  \\\n",
       "0  gpt-3.5-turbo   \n",
       "1  gpt-3.5-turbo   \n",
       "\n",
       "                                                                                                                       messages  \\\n",
       "0  [{'role': 'system', 'content': 'You are a helpful assistant.'}, {'role': 'user', 'content': 'Who was the first president?'}]   \n",
       "1  [{'role': 'system', 'content': 'You are a helpful assistant.'}, {'role': 'user', 'content': 'Who was the first president?'}]   \n",
       "\n",
       "   temperature  top_p  n  stream  presence_penalty  frequency_penalty  \\\n",
       "0  0.0          1.0    1  False   0.0               0.0                 \n",
       "1  1.0          1.0    1  False   0.0               0.0                 \n",
       "\n",
       "                                                                                                    response  \\\n",
       "0  The first president of the United States was George Washington. He served as president from 1789 to 1797.   \n",
       "1  The first president of the United States was George Washington.                                             \n",
       "\n",
       "                              response_id  response_object  response_created  \\\n",
       "0  chatcmpl-87dUDKRQCO6Bq1PdPJLfF3vsXeluE  chat.completion  1696830773         \n",
       "1  chatcmpl-87dUEABSL6dfbEQqDw6Mc61cKh42s  chat.completion  1696830774         \n",
       "\n",
       "       response_model  \\\n",
       "0  gpt-3.5-turbo-0613   \n",
       "1  gpt-3.5-turbo-0613   \n",
       "\n",
       "                                                                                                                                                                                    response_choices  \\\n",
       "0  [{'index': 0, 'message': {'role': 'assistant', 'content': 'The first president of the United States was George Washington. He served as president from 1789 to 1797.'}, 'finish_reason': 'stop'}]   \n",
       "1  [{'index': 0, 'message': {'role': 'assistant', 'content': 'The first president of the United States was George Washington.'}, 'finish_reason': 'stop'}]                                             \n",
       "\n",
       "                                                       response_usage  \\\n",
       "0  {'prompt_tokens': 23, 'completion_tokens': 24, 'total_tokens': 47}   \n",
       "1  {'prompt_tokens': 23, 'completion_tokens': 11, 'total_tokens': 34}   \n",
       "\n",
       "    latency  CUSTOM_METRIC  \n",
       "0  0.859089  123.0          \n",
       "1  1.121416 NaN             "
      ]
     },
     "execution_count": 32,
     "metadata": {},
     "output_type": "execute_result"
    }
   ],
   "source": [
    "experiment_from_load = OpenAIChatExperiment.load_experiment('c5f7e53f-7c69-474e-aa4a-b9df17efca45')\n",
    "experiment_from_load.full_df"
   ]
  },
  {
   "cell_type": "code",
   "execution_count": null,
   "metadata": {},
   "outputs": [],
   "source": []
  },
  {
   "cell_type": "code",
   "execution_count": null,
   "metadata": {},
   "outputs": [],
   "source": []
  },
  {
   "cell_type": "code",
   "execution_count": 24,
   "metadata": {},
   "outputs": [
    {
     "data": {
      "text/plain": [
       "<pymongo.results.DeleteResult at 0x2be3fff70>"
      ]
     },
     "execution_count": 24,
     "metadata": {},
     "output_type": "execute_result"
    }
   ],
   "source": [
    "from pymongo import MongoClient\n",
    "\n",
    "MONGO_ADDRESS = 'mongodb://localhost:27017/'\n",
    "DATABASE_NAME = 'playground'\n",
    "EXPERIMENTS = 'experiments'\n",
    "EXPERIMENT_LOGS_COLLECTION_NAME = 'experiment_logs'\n",
    "USER_PERMISSION_COLLECTION_NAME = \"user_permission\"\n",
    "\n",
    "# Connect to MongoDB\n",
    "client = MongoClient(MONGO_ADDRESS)\n",
    "db = client[DATABASE_NAME]\n",
    "experiments_collection = db[EXPERIMENTS]\n",
    "logs_collection = db[EXPERIMENT_LOGS_COLLECTION_NAME]\n",
    "user_permission_collection = db[USER_PERMISSION_COLLECTION_NAME]\n",
    "\n",
    "\n",
    "experiments_collection.delete_many({})\n",
    "logs_collection.delete_many({})\n",
    "user_permission_collection.delete_many({})"
   ]
  },
  {
   "cell_type": "code",
   "execution_count": null,
   "metadata": {},
   "outputs": [],
   "source": []
  },
  {
   "cell_type": "markdown",
   "metadata": {},
   "source": [
    "## Testing auth"
   ]
  },
  {
   "cell_type": "code",
   "execution_count": null,
   "metadata": {},
   "outputs": [],
   "source": []
  },
  {
   "cell_type": "code",
   "execution_count": 111,
   "metadata": {},
   "outputs": [
    {
     "name": "stdout",
     "output_type": "stream",
     "text": [
      "f316761ef60ba804c4ae9963656204f14f8b7a85b982e2738aee02e31626fab9295aa760b67dc71300473484f5881744\n",
      "<!doctype html>\n",
      "<html lang=en>\n",
      "<title>401 Unauthorized</title>\n",
      "<h1>Unauthorized</h1>\n",
      "<p>The server could not verify that you are authorized to access the URL requested. You either supplied the wrong credentials (e.g. a bad password), or your browser doesn&#39;t understand how to supply the credentials required.</p>\n",
      "\n"
     ]
    }
   ],
   "source": [
    "import requests\n",
    "\n",
    "def get_experiments(access_token):\n",
    "    # URL for the API endpoint\n",
    "    api_url = \"http://127.0.0.1:5000/experiment/test_auth\"\n",
    "\n",
    "    # Set up headers with the Bearer token\n",
    "    headers = {\n",
    "#         'Authorization': f'Bearer {access_token}'\n",
    "        'Authorization': access_token\n",
    "    }\n",
    "\n",
    "    # Make the GET request with headers\n",
    "    response = requests.post(api_url, headers=headers)\n",
    "\n",
    "    # Return the response object\n",
    "    return response\n",
    "\n",
    "print(os.environ['HEGELAI_API_KEY'])\n",
    "response = get_experiments(os.environ['HEGELAI_API_KEY'])\n",
    "print(response.text)\n"
   ]
  },
  {
   "cell_type": "code",
   "execution_count": 112,
   "metadata": {},
   "outputs": [
    {
     "name": "stdout",
     "output_type": "stream",
     "text": [
      "Response:\n",
      "401\n"
     ]
    }
   ],
   "source": [
    "import requests\n",
    "import json\n",
    "\n",
    "\n",
    "\n",
    "url = \"http://127.0.0.1:5000/experiment\"\n",
    "# url = \"http://127.0.0.1:5000/experiment/logs\"\n",
    "\n",
    "model = [\"gpt-3.5-turbo\"]\n",
    "messages = [\n",
    "    [\n",
    "        {\"role\": \"system\", \"content\": \"You are a helpful assistant.\"},\n",
    "        {\"role\": \"user\", \"content\": \"Who was the first president?\"},\n",
    "    ]\n",
    "]\n",
    "temperature = [0.0, 1.0]\n",
    "\n",
    "\n",
    "input_parameters = {\n",
    "    'experiment_name': 'RUNNING_ON_SERVER_SIDE_TEST',\n",
    "    'model': models,\n",
    "    'messages': messages,\n",
    "    'temperature': temperature,\n",
    "}\n",
    "\n",
    "headers = {\n",
    "    \"Authorization\": os.environ[\"HEGELAI_API_KEY\"],\n",
    "    \"Content-Type\": \"application/json\"\n",
    "}\n",
    "\n",
    "\n",
    "response = requests.get(url, headers=headers, data=json.dumps(input_parameters))\n",
    "\n",
    "# Print the response\n",
    "print(\"Response:\")\n",
    "print(response.status_code)"
   ]
  },
  {
   "cell_type": "code",
   "execution_count": 24,
   "metadata": {},
   "outputs": [
    {
     "name": "stdout",
     "output_type": "stream",
     "text": [
      "Response:\n",
      "200\n"
     ]
    }
   ],
   "source": [
    "import requests\n",
    "import json\n",
    "\n",
    "\n",
    "\n",
    "url = \"http://127.0.0.1:5000/permission/get_experiment_members\"\n",
    "\n",
    "headers = {\n",
    "    \"Authorization\": os.environ[\"HEGELAI_API_KEY\"],\n",
    "    \"Content-Type\": \"application/json\"\n",
    "}\n",
    "\n",
    "\n",
    "response = requests.get(url, headers=headers)\n",
    "\n",
    "# Print the response\n",
    "print(\"Response:\")\n",
    "print(response.status_code)"
   ]
  },
  {
   "cell_type": "code",
   "execution_count": null,
   "metadata": {
    "is_executing": true
   },
   "outputs": [],
   "source": [
    "import requests\n",
    "import json\n",
    "\n",
    "\n",
    "\n",
    "url = \"http://127.0.0.1:5000/web/get/experiments2\"\n",
    "\n",
    "headers = {\n",
    "    \"Authorization\": os.environ[\"HEGELAI_API_KEY\"],\n",
    "    \"Content-Type\": \"application/json\"\n",
    "}\n",
    "\n",
    "\n",
    "response = requests.get(url, headers=headers)\n",
    "\n",
    "# Print the response\n",
    "print(\"Response:\")\n",
    "print(response.status_code)"
   ]
  },
  {
   "cell_type": "code",
   "execution_count": 19,
   "metadata": {},
   "outputs": [
    {
     "name": "stdout",
     "output_type": "stream",
     "text": [
      "Response:\n",
      "200\n"
     ]
    }
   ],
   "source": [
    "import requests\n",
    "import json\n",
    "\n",
    "\n",
    "\n",
    "url = \"http://127.0.0.1:5000/permission/get_experiment_members\"\n",
    "\n",
    "headers = {\n",
    "    \"Authorization\": os.environ[\"HEGELAI_API_KEY\"],\n",
    "    \"Content-Type\": \"application/json\"\n",
    "}\n",
    "\n",
    "\n",
    "\n",
    "parameters = {\n",
    "    'experiment_id': 'da044226-bd4b-4fb5-b358-2c781e031dad',\n",
    "}\n",
    "\n",
    "response = requests.get(url, headers=headers, data=json.dumps(parameters))\n",
    "\n",
    "# Print the response\n",
    "print(\"Response:\")\n",
    "print(response.status_code)"
   ]
  },
  {
   "cell_type": "code",
   "execution_count": null,
   "metadata": {},
   "outputs": [],
   "source": []
  },
  {
   "cell_type": "code",
   "execution_count": 37,
   "metadata": {},
   "outputs": [
    {
     "name": "stdout",
     "output_type": "stream",
     "text": [
      "Response:\n",
      "200\n"
     ]
    }
   ],
   "source": [
    "import requests\n",
    "import json\n",
    "\n",
    "\n",
    "\n",
    "url = \"http://127.0.0.1:5000/web/evaluate/auto_eval\"\n",
    "\n",
    "headers = {\n",
    "    \"Authorization\": os.environ[\"HEGELAI_API_KEY\"],\n",
    "    \"OPENAI_API_KEY\": os.environ[\"OPENAI_API_KEY\"],\n",
    "    \"Content-Type\": \"application/json\"\n",
    "}\n",
    "\n",
    "\n",
    "parameters = {\n",
    "    'log_id': '652ebc5342a9d6e77881c32e',\n",
    "    'metric_name': 'score',\n",
    "}\n",
    "\n",
    "response = requests.post(url, headers=headers, data=json.dumps(parameters))\n",
    "\n",
    "# Print the response\n",
    "print(\"Response:\")\n",
    "print(response.status_code)"
   ]
  },
  {
   "cell_type": "code",
   "execution_count": 39,
   "metadata": {},
   "outputs": [
    {
     "name": "stdout",
     "output_type": "stream",
     "text": [
      "Response:\n",
      "200\n",
      "{'652ebc5342a9d6e77881c32e': '10', '652ebc5342a9d6e77881c32f': '10'}\n"
     ]
    }
   ],
   "source": [
    "import requests\n",
    "import json\n",
    "\n",
    "\n",
    "\n",
    "url = \"http://127.0.0.1:5000/web/evaluate/auto_eval_many\"\n",
    "\n",
    "headers = {\n",
    "    \"Authorization\": os.environ[\"HEGELAI_API_KEY\"],\n",
    "    \"OPENAI_API_KEY\": os.environ[\"OPENAI_API_KEY\"],\n",
    "    \"Content-Type\": \"application/json\"\n",
    "}\n",
    "\n",
    "\n",
    "parameters = {\n",
    "    'log_ids': ['652ebc5342a9d6e77881c32e', '652ebc5342a9d6e77881c32f'],\n",
    "    'metric_name': 'score',\n",
    "}\n",
    "\n",
    "response = requests.post(url, headers=headers, data=json.dumps(parameters))\n",
    "\n",
    "# Print the response\n",
    "print(\"Response:\")\n",
    "print(response.status_code)\n",
    "print(response.json())"
   ]
  },
  {
   "cell_type": "code",
   "execution_count": 38,
   "metadata": {},
   "outputs": [
    {
     "name": "stdout",
     "output_type": "stream",
     "text": [
      "Response:\n",
      "200\n"
     ]
    }
   ],
   "source": [
    "import requests\n",
    "import json\n",
    "\n",
    "\n",
    "\n",
    "url = \"http://127.0.0.1:5000/web/get/logs\"\n",
    "\n",
    "headers = {\n",
    "    \"Authorization\": os.environ[\"HEGELAI_API_KEY\"],\n",
    "    \"Content-Type\": \"application/json\"\n",
    "}\n",
    "\n",
    "\n",
    "# parameters = {\n",
    "#     'experiment_id': 'da044226-bd4b-4fb5-b358-2c781e031dad',\n",
    "# }\n",
    "\n",
    "response = requests.get(url, headers=headers) # , data=json.dumps(parameters))\n",
    "\n",
    "# Print the response\n",
    "print(\"Response:\")\n",
    "print(response.status_code)"
   ]
  },
  {
   "cell_type": "code",
   "execution_count": 51,
   "metadata": {},
   "outputs": [
    {
     "name": "stdout",
     "output_type": "stream",
     "text": [
      "Response:\n",
      "404\n"
     ]
    }
   ],
   "source": [
    "import requests\n",
    "import json\n",
    "\n",
    "\n",
    "\n",
    "url = \"http://127.0.0.1:5000/web/something\"\n",
    "\n",
    "headers = {\n",
    "    \"Authorization\": os.environ[\"HEGELAI_API_KEY\"],\n",
    "    \"Content-Type\": \"application/json\"\n",
    "}\n",
    "\n",
    "\n",
    "# parameters = {\n",
    "#     'experiment_id': 'da044226-bd4b-4fb5-b358-2c781e031dad',\n",
    "# }\n",
    "\n",
    "response = requests.get(url, headers=headers) # , data=json.dumps(parameters))\n",
    "\n",
    "# Print the response\n",
    "print(\"Response:\")\n",
    "print(response.status_code)"
   ]
  },
  {
   "cell_type": "code",
   "execution_count": null,
   "metadata": {},
   "outputs": [],
   "source": []
  }
 ],
 "metadata": {
  "kernelspec": {
   "display_name": "Python 3 (ipykernel)",
   "language": "python",
   "name": "python3"
  },
  "language_info": {
   "codemirror_mode": {
    "name": "ipython",
    "version": 3
   },
   "file_extension": ".py",
   "mimetype": "text/x-python",
   "name": "python",
   "nbconvert_exporter": "python",
   "pygments_lexer": "ipython3",
   "version": "3.11.4"
  }
 },
 "nbformat": 4,
 "nbformat_minor": 1
}
